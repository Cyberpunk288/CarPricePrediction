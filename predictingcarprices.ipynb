{
  "nbformat": 4,
  "nbformat_minor": 0,
  "metadata": {
    "colab": {
      "provenance": [],
      "authorship_tag": "ABX9TyMw1vDhOAJKpCzMH0jHRj3X",
      "include_colab_link": true
    },
    "kernelspec": {
      "name": "python3",
      "display_name": "Python 3"
    },
    "language_info": {
      "name": "python"
    }
  },
  "cells": [
    {
      "cell_type": "markdown",
      "metadata": {
        "id": "view-in-github",
        "colab_type": "text"
      },
      "source": [
        "<a href=\"https://colab.research.google.com/github/Cyberpunk288/CarPricePrediction/blob/main/predictingcarprices.ipynb\" target=\"_parent\"><img src=\"https://colab.research.google.com/assets/colab-badge.svg\" alt=\"Open In Colab\"/></a>"
      ]
    },
    {
      "cell_type": "code",
      "execution_count": 1,
      "metadata": {
        "id": "_4IeBCVLWTdZ",
        "colab": {
          "base_uri": "https://localhost:8080/"
        },
        "outputId": "92d9930f-187f-4e35-83b1-4e03a8361c36"
      },
      "outputs": [
        {
          "output_type": "stream",
          "name": "stdout",
          "text": [
            "Dataset:\n",
            "      make     model  year  mileage  price\n",
            "0  Toyota   Corolla  2015    50000  15000\n",
            "1   Honda     Civic  2017    30000  17000\n",
            "2    Ford     F-150  2018    40000  25000\n",
            "3     BMW  3 Series  2016    60000  27000\n",
            "4    Audi        A4  2015    45000  30000\n",
            "5  Toyota     Camry  2018    35000  16000\n",
            "6   Honda    Accord  2016    55000  18000\n",
            "7    Ford   Mustang  2015    65000  26000\n",
            "8     BMW  5 Series  2017    30000  28000\n",
            "9    Audi        A6  2018    20000  31000\n",
            "\n",
            "Encoded Dataset:\n",
            "    year  mileage  price  make_Audi  make_BMW  make_Ford  make_Honda  \\\n",
            "0  2015    50000  15000      False     False      False       False   \n",
            "1  2017    30000  17000      False     False      False        True   \n",
            "2  2018    40000  25000      False     False       True       False   \n",
            "3  2016    60000  27000      False      True      False       False   \n",
            "4  2015    45000  30000       True     False      False       False   \n",
            "5  2018    35000  16000      False     False      False       False   \n",
            "6  2016    55000  18000      False     False      False        True   \n",
            "7  2015    65000  26000      False     False       True       False   \n",
            "8  2017    30000  28000      False      True      False       False   \n",
            "9  2018    20000  31000       True     False      False       False   \n",
            "\n",
            "   make_Toyota  model_3 Series  model_5 Series  model_A4  model_A6  \\\n",
            "0         True           False           False     False     False   \n",
            "1        False           False           False     False     False   \n",
            "2        False           False           False     False     False   \n",
            "3        False            True           False     False     False   \n",
            "4        False           False           False      True     False   \n",
            "5         True           False           False     False     False   \n",
            "6        False           False           False     False     False   \n",
            "7        False           False           False     False     False   \n",
            "8        False           False            True     False     False   \n",
            "9        False           False           False     False      True   \n",
            "\n",
            "   model_Accord  model_Camry  model_Civic  model_Corolla  model_F-150  \\\n",
            "0         False        False        False           True        False   \n",
            "1         False        False         True          False        False   \n",
            "2         False        False        False          False         True   \n",
            "3         False        False        False          False        False   \n",
            "4         False        False        False          False        False   \n",
            "5         False         True        False          False        False   \n",
            "6          True        False        False          False        False   \n",
            "7         False        False        False          False        False   \n",
            "8         False        False        False          False        False   \n",
            "9         False        False        False          False        False   \n",
            "\n",
            "   model_Mustang  \n",
            "0          False  \n",
            "1          False  \n",
            "2          False  \n",
            "3          False  \n",
            "4          False  \n",
            "5          False  \n",
            "6          False  \n",
            "7           True  \n",
            "8          False  \n",
            "9          False  \n",
            "\n",
            "Mean Squared Error: 23447450.0\n",
            "R-squared Score: 0.22487768595041324\n"
          ]
        }
      ],
      "source": [
        "# Import necessary libraries\n",
        "import pandas as pd\n",
        "from sklearn.model_selection import train_test_split\n",
        "from sklearn.ensemble import RandomForestRegressor\n",
        "from sklearn.metrics import mean_squared_error, r2_score\n",
        "\n",
        "# Sample dataset (replace with a real dataset if available)\n",
        "data = {\n",
        "    'make': ['Toyota', 'Honda', 'Ford', 'BMW', 'Audi', 'Toyota', 'Honda', 'Ford', 'BMW', 'Audi'],\n",
        "    'model': ['Corolla', 'Civic', 'F-150', '3 Series', 'A4', 'Camry', 'Accord', 'Mustang', '5 Series', 'A6'],\n",
        "    'year': [2015, 2017, 2018, 2016, 2015, 2018, 2016, 2015, 2017, 2018],\n",
        "    'mileage': [50000, 30000, 40000, 60000, 45000, 35000, 55000, 65000, 30000, 20000],\n",
        "    'price': [15000, 17000, 25000, 27000, 30000, 16000, 18000, 26000, 28000, 31000]\n",
        "}\n",
        "\n",
        "# Convert to DataFrame\n",
        "df = pd.DataFrame(data)\n",
        "print(\"Dataset:\\n\", df)\n",
        "\n",
        "# Convert categorical columns to numeric using one-hot encoding\n",
        "df_encoded = pd.get_dummies(df, columns=['make', 'model'])\n",
        "print(\"\\nEncoded Dataset:\\n\", df_encoded)\n",
        "\n",
        "# Define features (X) and target (y)\n",
        "X = df_encoded.drop('price', axis=1)  # Features\n",
        "y = df_encoded['price']               # Target variable\n",
        "\n",
        "# Split the dataset into training and testing sets\n",
        "X_train, X_test, y_train, y_test = train_test_split(X, y, test_size=0.2, random_state=42)\n",
        "\n",
        "# Initialize the Random Forest Regressor\n",
        "model = RandomForestRegressor(n_estimators=100, random_state=42)\n",
        "\n",
        "# Train the model\n",
        "model.fit(X_train, y_train)\n",
        "\n",
        "# Make predictions on the test set\n",
        "y_pred = model.predict(X_test)\n",
        "\n",
        "# Evaluate the model\n",
        "mse = mean_squared_error(y_test, y_pred)\n",
        "r2 = r2_score(y_test, y_pred)\n",
        "\n",
        "print(f\"\\nMean Squared Error: {mse}\")\n",
        "print(f\"R-squared Score: {r2}\")\n"
      ]
    },
    {
      "cell_type": "code",
      "source": [],
      "metadata": {
        "id": "ggydn0AVatNd"
      },
      "execution_count": null,
      "outputs": []
    }
  ]
}